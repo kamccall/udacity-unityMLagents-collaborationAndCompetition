{
 "cells": [
  {
   "cell_type": "markdown",
   "metadata": {},
   "source": [
    "# Collaboration and Competition\n",
    "\n",
    "---\n",
    "\n",
    "You are welcome to use this coding environment to train your agent for the project.  Follow the instructions below to get started!\n",
    "\n",
    "### 1. Start the Environment\n",
    "\n",
    "Run the next code cell to install a few packages.  This line will take a few minutes to run!"
   ]
  },
  {
   "cell_type": "code",
   "execution_count": 1,
   "metadata": {},
   "outputs": [
    {
     "name": "stdout",
     "output_type": "stream",
     "text": [
      "\u001b[31mtensorflow 1.7.1 has requirement numpy>=1.13.3, but you'll have numpy 1.12.1 which is incompatible.\u001b[0m\r\n",
      "\u001b[31mipython 6.5.0 has requirement prompt-toolkit<2.0.0,>=1.0.15, but you'll have prompt-toolkit 3.0.5 which is incompatible.\u001b[0m\r\n"
     ]
    }
   ],
   "source": [
    "!pip -q install ./python"
   ]
  },
  {
   "cell_type": "markdown",
   "metadata": {},
   "source": [
    "The environment is already saved in the Workspace and can be accessed at the file path provided below. "
   ]
  },
  {
   "cell_type": "code",
   "execution_count": 2,
   "metadata": {},
   "outputs": [
    {
     "name": "stderr",
     "output_type": "stream",
     "text": [
      "INFO:unityagents:\n",
      "'Academy' started successfully!\n",
      "Unity Academy name: Academy\n",
      "        Number of Brains: 1\n",
      "        Number of External Brains : 1\n",
      "        Lesson number : 0\n",
      "        Reset Parameters :\n",
      "\t\t\n",
      "Unity brain name: TennisBrain\n",
      "        Number of Visual Observations (per agent): 0\n",
      "        Vector Observation space type: continuous\n",
      "        Vector Observation space size (per agent): 8\n",
      "        Number of stacked Vector Observation: 3\n",
      "        Vector Action space type: continuous\n",
      "        Vector Action space size (per agent): 2\n",
      "        Vector Action descriptions: , \n"
     ]
    }
   ],
   "source": [
    "from unityagents import UnityEnvironment\n",
    "import numpy as np\n",
    "\n",
    "env = UnityEnvironment(file_name=\"/data/Tennis_Linux_NoVis/Tennis\")"
   ]
  },
  {
   "cell_type": "markdown",
   "metadata": {},
   "source": [
    "Environments contain **_brains_** which are responsible for deciding the actions of their associated agents. Here we check for the first brain available, and set it as the default brain we will be controlling from Python."
   ]
  },
  {
   "cell_type": "code",
   "execution_count": 3,
   "metadata": {},
   "outputs": [],
   "source": [
    "# get the default brain\n",
    "brain_name = env.brain_names[0]\n",
    "brain = env.brains[brain_name]"
   ]
  },
  {
   "cell_type": "markdown",
   "metadata": {},
   "source": [
    "### 2. Examine the State and Action Spaces\n",
    "\n",
    "Run the code cell below to print some information about the environment."
   ]
  },
  {
   "cell_type": "code",
   "execution_count": 4,
   "metadata": {},
   "outputs": [
    {
     "name": "stdout",
     "output_type": "stream",
     "text": [
      "Number of agents: 2\n",
      "Size of each action: 2\n",
      "There are 2 agents. Each observes a state with length: 24\n",
      "The state for the first agent looks like: [ 0.          0.          0.          0.          0.          0.          0.\n",
      "  0.          0.          0.          0.          0.          0.          0.\n",
      "  0.          0.         -6.65278625 -1.5        -0.          0.\n",
      "  6.83172083  6.         -0.          0.        ]\n"
     ]
    }
   ],
   "source": [
    "# reset the environment\n",
    "env_info = env.reset(train_mode=True)[brain_name]\n",
    "\n",
    "# number of agents \n",
    "num_agents = len(env_info.agents)\n",
    "print('Number of agents:', num_agents)\n",
    "\n",
    "# size of each action\n",
    "action_size = brain.vector_action_space_size\n",
    "print('Size of each action:', action_size)\n",
    "\n",
    "# examine the state space \n",
    "states = env_info.vector_observations\n",
    "state_size = states.shape[1]\n",
    "print('There are {} agents. Each observes a state with length: {}'.format(states.shape[0], state_size))\n",
    "print('The state for the first agent looks like:', states[0])"
   ]
  },
  {
   "cell_type": "markdown",
   "metadata": {},
   "source": [
    "### 3. Take Random Actions in the Environment\n",
    "\n",
    "In the next code cell, you will learn how to use the Python API to control the agent and receive feedback from the environment.\n",
    "\n",
    "Note that **in this coding environment, you will not be able to watch the agents while they are training**, and you should set `train_mode=True` to restart the environment."
   ]
  },
  {
   "cell_type": "code",
   "execution_count": 5,
   "metadata": {},
   "outputs": [
    {
     "name": "stdout",
     "output_type": "stream",
     "text": [
      "Total score (averaged over agents) this episode: -0.004999999888241291\n",
      "Total score (averaged over agents) this episode: -0.004999999888241291\n",
      "Total score (averaged over agents) this episode: 0.09500000160187483\n",
      "Total score (averaged over agents) this episode: -0.004999999888241291\n",
      "Total score (averaged over agents) this episode: -0.004999999888241291\n"
     ]
    }
   ],
   "source": [
    "for i in range(5):                                         # play game for 5 episodes\n",
    "    env_info = env.reset(train_mode=False)[brain_name]     # reset the environment    \n",
    "    states = env_info.vector_observations                  # get the current state (for each agent)\n",
    "    scores = np.zeros(num_agents)                          # initialize the score (for each agent)\n",
    "    while True:\n",
    "        actions = np.random.randn(num_agents, action_size) # select an action (for each agent)\n",
    "        actions = np.clip(actions, -1, 1)                  # all actions between -1 and 1\n",
    "        env_info = env.step(actions)[brain_name]           # send all actions to the environment\n",
    "        next_states = env_info.vector_observations         # get next state (for each agent)\n",
    "        rewards = env_info.rewards                         # get reward (for each agent)\n",
    "        dones = env_info.local_done                        # see if episode finished\n",
    "        scores += env_info.rewards                         # update the score (for each agent)\n",
    "        states = next_states                               # roll over states to next time step\n",
    "        if np.any(dones):                                  # exit loop if episode finished\n",
    "            break\n",
    "    print('Total score (averaged over agents) this episode: {}'.format(np.mean(scores)))"
   ]
  },
  {
   "cell_type": "markdown",
   "metadata": {},
   "source": [
    "When finished, you can close the environment."
   ]
  },
  {
   "cell_type": "code",
   "execution_count": 6,
   "metadata": {},
   "outputs": [],
   "source": [
    "env.close()"
   ]
  },
  {
   "cell_type": "markdown",
   "metadata": {},
   "source": [
    "### 4. It's Your Turn!\n",
    "\n",
    "Now it's your turn to train your own agent to solve the environment!  A few **important notes**:\n",
    "- When training the environment, set `train_mode=True`, so that the line for resetting the environment looks like the following:\n",
    "```python\n",
    "env_info = env.reset(train_mode=True)[brain_name]\n",
    "```\n",
    "- To structure your work, you're welcome to work directly in this Jupyter notebook, or you might like to start over with a new file!  You can see the list of files in the workspace by clicking on **_Jupyter_** in the top left corner of the notebook.\n",
    "- In this coding environment, you will not be able to watch the agents while they are training.  However, **_after training the agents_**, you can download the saved model weights to watch the agents on your own machine! "
   ]
  },
  {
   "cell_type": "markdown",
   "metadata": {},
   "source": [
    "# KM custom agent training space"
   ]
  },
  {
   "cell_type": "code",
   "execution_count": 6,
   "metadata": {},
   "outputs": [],
   "source": [
    "from ddpg_agent import Agent\n",
    "agent = Agent(num_agents, state_size, action_size, random_seed=0)"
   ]
  },
  {
   "cell_type": "code",
   "execution_count": 7,
   "metadata": {},
   "outputs": [
    {
     "name": "stdout",
     "output_type": "stream",
     "text": [
      "episode [100/3000]\taverage score: 0.00\n",
      "episode [200/3000]\taverage score: 0.00\n",
      "episode [300/3000]\taverage score: 0.00\n",
      "episode [400/3000]\taverage score: 0.00\n",
      "episode [500/3000]\taverage score: 0.01\n",
      "episode [600/3000]\taverage score: 0.00\n",
      "episode [700/3000]\taverage score: 0.01\n",
      "episode [800/3000]\taverage score: 0.01\n",
      "episode [900/3000]\taverage score: 0.00\n",
      "episode [1000/3000]\taverage score: 0.00\n",
      "episode [1100/3000]\taverage score: 0.00\n",
      "episode [1200/3000]\taverage score: 0.02\n",
      "episode [1300/3000]\taverage score: 0.01\n",
      "episode [1400/3000]\taverage score: 0.03\n",
      "episode [1500/3000]\taverage score: 0.04\n",
      "episode [1600/3000]\taverage score: 0.19\n",
      "episode [1700/3000]\taverage score: 0.43\n",
      "episode [1800/3000]\taverage score: 0.98\n",
      "episode [1900/3000]\taverage score: 0.84\n",
      "episode [2000/3000]\taverage score: 0.62\n",
      "episode [2100/3000]\taverage score: 1.19\n",
      "episode [2200/3000]\taverage score: 0.63\n",
      "episode [2300/3000]\taverage score: 0.38\n",
      "episode [2400/3000]\taverage score: 1.23\n",
      "episode [2500/3000]\taverage score: 0.58\n",
      "episode [2600/3000]\taverage score: 0.92\n",
      "episode [2700/3000]\taverage score: 0.95\n",
      "episode [2800/3000]\taverage score: 1.20\n",
      "episode [2900/3000]\taverage score: 1.31\n",
      "episode [3000/3000]\taverage score: 1.28\n",
      "\n",
      "overall average score: 0.43 \n",
      "\n"
     ]
    }
   ],
   "source": [
    "# main agent training code\n",
    "import torch\n",
    "import numpy as np\n",
    "from collections import deque\n",
    "\n",
    "episodes = 3000\n",
    "solved   = False\n",
    "\n",
    "scores = []                        # stores ALL the scores from ALL episodes\n",
    "scores_window = deque(maxlen=100)  # stores last 100 episodes (to assess if/when environment is solved)\n",
    "\n",
    "for episode in range(episodes): \n",
    "    if not solved:\n",
    "        score = np.zeros(num_agents)                        # multiple agents\n",
    "    \n",
    "        # reset the environment\n",
    "        env_info  = env.reset(train_mode=True)[brain_name]  # resets environment (for 1 or 20 agents)\n",
    "        agent.reset()                                       # resets noise attribute of agent only\n",
    "        # cur_state = env_info.vector_observations[0]\n",
    "        states = env_info.vector_observations               # 2 agents \n",
    "    \n",
    "        while True:\n",
    "            # predict the best action(s) for the current state\n",
    "            actions = agent.act(states, add_noise = False)  # 2 agents \n",
    "        \n",
    "            # action(s) is/are performed and new state, reward, info are received (or vectors of each)\n",
    "            env_info  = env.step(actions)[brain_name]       # 2 agents \n",
    "        \n",
    "            # update state info, rewards and dones from new env_info collection\n",
    "            new_states = env_info.vector_observations       # 2 agents \n",
    "            rewards    = env_info.rewards                   # 2 agents \n",
    "            dones      = env_info.local_done                # 2 agents \n",
    "        \n",
    "            # current state, action, reward, new state are stored in the experience replay buffer\n",
    "            agent.step(states, actions, rewards, new_states, dones) # 2 agents \n",
    "        \n",
    "            # roll new state and score to next step in episode\n",
    "            states = new_states                             # 2 agents \n",
    "            score += rewards                                # 2 agents\n",
    "            if np.any(dones):                               # 2 agents \n",
    "                break\n",
    "    \n",
    "        max_reward = max(score[0], score[1])\n",
    "        scores.append(max_reward)\n",
    "        scores_window.append(max_reward)\n",
    "        \n",
    "        # print average score over last 100 episodes\n",
    "        if (episode + 1) % 100 == 0:  \n",
    "            print('\\repisode [{}/{}]\\taverage score: {:,.2f}'.format(episode + 1, episodes, np.mean(scores_window)))\n",
    "        \n",
    "        # environment considered solved when score >= 0.5 over last 100 episodes\n",
    "        if np.mean(scores_window) >= 2.25:\n",
    "            print(\"\\nenvironment solved in {:d} episodes... average score: {:.2f}\".format(episode-100, np.mean(scores_window)))\n",
    "            torch.save(agent.actor_local.state_dict(), 'km_actor_k3.pth')\n",
    "            torch.save(agent.critic_local.state_dict(), 'km_critic_k3.pth')\n",
    "            solved = True\n",
    "\n",
    "print('\\noverall average score: {:,.2f} \\n'.format(np.mean(scores)))"
   ]
  },
  {
   "cell_type": "code",
   "execution_count": 8,
   "metadata": {},
   "outputs": [
    {
     "data": {
      "image/png": "[encoded data removed]",
      "text/plain": [
       "<matplotlib.figure.Figure at 0x7f6b98217550>"
      ]
     },
     "metadata": {
      "needs_background": "light"
     },
     "output_type": "display_data"
    }
   ],
   "source": [
    "# plot the scores for both agents\n",
    "import matplotlib.pyplot as plt\n",
    "%matplotlib inline\n",
    "fig = plt.figure()\n",
    "ax = fig.add_subplot(111)\n",
    "plt.plot(np.arange(len(scores)), scores)\n",
    "plt.ylabel('score')\n",
    "plt.xlabel('episode #')\n",
    "plt.show()"
   ]
  },
  {
   "cell_type": "code",
   "execution_count": 9,
   "metadata": {},
   "outputs": [
    {
     "name": "stdout",
     "output_type": "stream",
     "text": [
      "max agent score: 2.600\t averaged agent score: 2.600\t player volleys: 71.5\n",
      "max agent score: 0.400\t averaged agent score: 0.395\t player volleys: 10.8\n",
      "max agent score: 0.400\t averaged agent score: 0.395\t player volleys: 12.1\n",
      "max agent score: 0.200\t averaged agent score: 0.145\t player volleys: 5.2\n",
      "max agent score: 1.800\t averaged agent score: 1.795\t player volleys: 50.4\n",
      "max agent score: 0.400\t averaged agent score: 0.395\t player volleys: 12.1\n",
      "max agent score: 2.600\t averaged agent score: 2.550\t player volleys: 71.5\n",
      "max agent score: 0.100\t averaged agent score: 0.045\t player volleys: 1.1\n",
      "max agent score: 0.500\t averaged agent score: 0.495\t player volleys: 14.7\n",
      "max agent score: 2.600\t averaged agent score: 2.550\t player volleys: 71.5\n"
     ]
    }
   ],
   "source": [
    "# validate the agent performs as trained\n",
    "for i in range(10):                                        # play game for 5 episodes\n",
    "    env_info = env.reset(train_mode=False)[brain_name]     # reset the environment    \n",
    "    states = env_info.vector_observations                  # get the current state (for each agent)\n",
    "    scores = np.zeros(num_agents)                          # initialize the score (for each agent)\n",
    "    score_top = 0.0\n",
    "    iterations = 0\n",
    "    while True:\n",
    "        # obtain recommended actions and process state/action pairs through engine\n",
    "        actions = agent.act(states, add_noise=False) # select an action (for each agent)\n",
    "        env_info = env.step(actions)[brain_name]           # send all actions to the environment\n",
    "        next_states = env_info.vector_observations         # get next state (for each agent)\n",
    "        rewards = env_info.rewards                         # get reward (for each agent)\n",
    "        dones = env_info.local_done                        # see if episode finished\n",
    "        \n",
    "        # update scores and statistics so far in the episode\n",
    "        scores += env_info.rewards                         # update the score (for each agent)\n",
    "        max_score = max(scores[0], scores[1])              # get max score between players\n",
    "        iterations += 1                                    # rough estimate of number of hits in volley\n",
    "        \n",
    "        states = next_states                               # roll over states to next time step\n",
    "        if np.any(dones):                                  # exit loop if episode finished\n",
    "            break\n",
    "    \n",
    "    volleys = iterations / 14\n",
    "    print('max agent score: {:.3f}\\t averaged agent score: {:.3f}\\t player volleys: {:.1f}'.format(max_score, np.mean(scores), volleys))"
   ]
  },
  {
   "cell_type": "code",
   "execution_count": 18,
   "metadata": {},
   "outputs": [
    {
     "name": "stdout",
     "output_type": "stream",
     "text": [
      "\n",
      "actor file:  km_actor_a.pth\n",
      "critic file: km_critic_a.pth\n",
      "max agent score: 2.600\t averaged agent score: 2.600\t player volleys: 71.5\n",
      "max agent score: 0.100\t averaged agent score: 0.045\t player volleys: 1.1\n",
      "max agent score: 0.200\t averaged agent score: 0.195\t player volleys: 6.1\n",
      "max agent score: 0.100\t averaged agent score: 0.045\t player volleys: 2.1\n",
      "max agent score: 2.600\t averaged agent score: 2.600\t player volleys: 71.5\n",
      "max agent score: 2.600\t averaged agent score: 2.600\t player volleys: 71.5\n",
      "max agent score: 0.100\t averaged agent score: 0.095\t player volleys: 2.6\n",
      "max agent score: 0.200\t averaged agent score: 0.145\t player volleys: 5.1\n",
      "max agent score: 0.100\t averaged agent score: 0.095\t player volleys: 4.5\n",
      "max agent score: 2.600\t averaged agent score: 2.600\t player volleys: 71.5\n",
      "max agent score: 2.600\t averaged agent score: 2.600\t player volleys: 71.5\n",
      "max agent score: 0.100\t averaged agent score: 0.095\t player volleys: 2.8\n",
      "max agent score: 0.200\t averaged agent score: 0.145\t player volleys: 5.0\n",
      "max agent score: 0.100\t averaged agent score: 0.095\t player volleys: 3.9\n",
      "max agent score: 0.090\t averaged agent score: 0.045\t player volleys: 2.1\n",
      "max agent score: 0.100\t averaged agent score: 0.095\t player volleys: 3.8\n",
      "max agent score: 0.100\t averaged agent score: 0.045\t player volleys: 2.1\n",
      "max agent score: 0.100\t averaged agent score: 0.045\t player volleys: 2.1\n",
      "max agent score: 2.600\t averaged agent score: 2.600\t player volleys: 71.5\n",
      "max agent score: 2.600\t averaged agent score: 2.600\t player volleys: 71.5\n",
      "average across test run: 0.969\t average volleys: 27.2\n",
      "\n",
      "actor file:  km_actor_b.pth\n",
      "critic file: km_critic_b.pth\n",
      "max agent score: 2.490\t averaged agent score: 2.445\t player volleys: 65.9\n",
      "max agent score: 2.600\t averaged agent score: 2.600\t player volleys: 71.5\n",
      "max agent score: 2.600\t averaged agent score: 2.600\t player volleys: 71.5\n",
      "max agent score: 1.590\t averaged agent score: 1.545\t player volleys: 41.6\n",
      "max agent score: 0.600\t averaged agent score: 0.495\t player volleys: 14.5\n",
      "max agent score: 2.600\t averaged agent score: 2.600\t player volleys: 71.5\n",
      "max agent score: 0.200\t averaged agent score: 0.145\t player volleys: 3.8\n",
      "max agent score: 2.600\t averaged agent score: 2.600\t player volleys: 71.5\n",
      "max agent score: 2.600\t averaged agent score: 2.600\t player volleys: 71.5\n",
      "max agent score: 2.600\t averaged agent score: 2.600\t player volleys: 71.5\n",
      "max agent score: 2.600\t averaged agent score: 2.600\t player volleys: 71.5\n",
      "max agent score: 2.700\t averaged agent score: 2.650\t player volleys: 71.5\n",
      "max agent score: 2.600\t averaged agent score: 2.600\t player volleys: 71.5\n",
      "max agent score: 2.700\t averaged agent score: 2.650\t player volleys: 71.5\n",
      "max agent score: 1.600\t averaged agent score: 1.595\t player volleys: 43.3\n",
      "max agent score: 0.600\t averaged agent score: 0.545\t player volleys: 17.4\n",
      "max agent score: 0.590\t averaged agent score: 0.545\t player volleys: 15.4\n",
      "max agent score: 2.600\t averaged agent score: 2.550\t player volleys: 71.5\n",
      "max agent score: 2.700\t averaged agent score: 2.650\t player volleys: 71.5\n",
      "max agent score: 2.600\t averaged agent score: 2.600\t player volleys: 71.5\n",
      "average across test run: 2.061\t average volleys: 56.6\n",
      "\n",
      "actor file:  km_actor_c.pth\n",
      "critic file: km_critic_c.pth\n",
      "max agent score: 2.700\t averaged agent score: 2.650\t player volleys: 71.5\n",
      "max agent score: 2.700\t averaged agent score: 2.650\t player volleys: 71.5\n",
      "max agent score: 2.700\t averaged agent score: 2.650\t player volleys: 71.5\n",
      "max agent score: 2.600\t averaged agent score: 2.600\t player volleys: 71.5\n",
      "max agent score: 2.700\t averaged agent score: 2.650\t player volleys: 71.5\n",
      "max agent score: 2.700\t averaged agent score: 2.650\t player volleys: 71.5\n",
      "max agent score: 2.600\t averaged agent score: 2.600\t player volleys: 71.5\n",
      "max agent score: 2.700\t averaged agent score: 2.650\t player volleys: 71.5\n",
      "max agent score: 2.700\t averaged agent score: 2.650\t player volleys: 71.5\n",
      "max agent score: 2.600\t averaged agent score: 2.600\t player volleys: 71.5\n",
      "max agent score: 2.700\t averaged agent score: 2.650\t player volleys: 71.5\n",
      "max agent score: 2.700\t averaged agent score: 2.650\t player volleys: 71.5\n",
      "max agent score: 2.600\t averaged agent score: 2.600\t player volleys: 71.5\n",
      "max agent score: 2.700\t averaged agent score: 2.650\t player volleys: 71.5\n",
      "max agent score: 2.700\t averaged agent score: 2.650\t player volleys: 71.5\n",
      "max agent score: 2.600\t averaged agent score: 2.600\t player volleys: 71.5\n",
      "max agent score: 2.700\t averaged agent score: 2.650\t player volleys: 71.5\n",
      "max agent score: 2.700\t averaged agent score: 2.650\t player volleys: 71.5\n",
      "max agent score: 2.600\t averaged agent score: 2.600\t player volleys: 71.5\n",
      "max agent score: 2.700\t averaged agent score: 2.650\t player volleys: 71.5\n",
      "average across test run: 2.635\t average volleys: 71.5\n"
     ]
    }
   ],
   "source": [
    "# load and compare the performance of agents that achieved 0.5, 1.0 and 2.0 levels of proficiency\n",
    "import torch\n",
    "actors =  ['km_actor_a.pth', 'km_actor_b.pth', 'km_actor_c.pth']     # list of actor model filenames\n",
    "critics = ['km_critic_a.pth', 'km_critic_b.pth', 'km_critic_c.pth']  # list of critic model filenames\n",
    "\n",
    "num_tests = 20\n",
    "\n",
    "# load each pair for every pair in files\n",
    "for actor, critic in zip(actors, critics):\n",
    "    agent.actor_local.load_state_dict(torch.load(actor, map_location= 'cpu'))\n",
    "    agent.critic_local.load_state_dict(torch.load(critic, map_location = 'cpu'))\n",
    "    \n",
    "    running_average = 0.0 \n",
    "    running_volleys = 0.0\n",
    "    \n",
    "    print(\"\\nactor file:  \" + str(actor))\n",
    "    print(\"critic file: \" + str(critic))\n",
    "    \n",
    "    for i in range(num_tests):\n",
    "        env_info = env.reset(train_mode=True)[brain_name]       # reset environment (same for any agent count) \n",
    "        states = env_info.vector_observations      \n",
    "        scores_test = np.zeros(num_agents)  \n",
    "        iterations = 0\n",
    "\n",
    "        while True:\n",
    "            # action = agent.act(cur_state, add_noise = False)\n",
    "            actions = agent.act(states, add_noise = False) \n",
    "            env_info = env.step(actions)[brain_name]\n",
    "            next_states = env_info.vector_observations \n",
    "            rewards = env_info.rewards      \n",
    "            dones = env_info.local_done     \n",
    "        \n",
    "            # update scores and statistics\n",
    "            scores_test += rewards          \n",
    "            max_score = max(scores_test[0], scores_test[1])\n",
    "            iterations += 1\n",
    "            \n",
    "            states = next_states        \n",
    "            if np.any(dones):               \n",
    "            # if done:\n",
    "                break\n",
    "\n",
    "        volleys = iterations / 14\n",
    "        running_average += np.mean(scores_test)\n",
    "        running_volleys += volleys\n",
    "        print('max agent score: {:.3f}\\t averaged agent score: {:.3f}\\t player volleys: {:.1f}'.format(max_score, np.mean(scores_test), volleys))\n",
    "    \n",
    "    print('average across test run: {:.3f}\\t average volleys: {:.1f}'.format(running_average / num_tests, running_volleys / num_tests))"
   ]
  },
  {
   "cell_type": "code",
   "execution_count": null,
   "metadata": {},
   "outputs": [],
   "source": []
  }
 ],
 "metadata": {
  "kernelspec": {
   "display_name": "Python 3",
   "language": "python",
   "name": "python3"
  },
  "language_info": {
   "codemirror_mode": {
    "name": "ipython",
    "version": 3
   },
   "file_extension": ".py",
   "mimetype": "text/x-python",
   "name": "python",
   "nbconvert_exporter": "python",
   "pygments_lexer": "ipython3",
   "version": "3.6.3"
  }
 },
 "nbformat": 4,
 "nbformat_minor": 2
}
